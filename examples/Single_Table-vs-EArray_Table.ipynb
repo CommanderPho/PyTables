{
 "cells": [
  {
   "cell_type": "markdown",
   "metadata": {},
   "source": [
    "# Using a single Table vs EArray + Table"
   ]
  },
  {
   "cell_type": "markdown",
   "metadata": {},
   "source": [
    "The PyTables community keep asking what can be considered a FAQ.  Namely, should I use a single Table for storing my data, or should I split it in a Table and an Array?\n",
    "\n",
    "Although there is not a totally general answer, the study below address this for the common case where one has 'raw data' and other data that can be considered 'meta'.  See for example: https://groups.google.com/forum/#!topic/pytables-users/vBEiaRzp3gI"
   ]
  },
  {
   "cell_type": "code",
   "execution_count": 1,
   "metadata": {
    "collapsed": true
   },
   "outputs": [],
   "source": [
    "import numpy as np\n",
    "import tables"
   ]
  },
  {
   "cell_type": "code",
   "execution_count": 2,
   "metadata": {
    "collapsed": false
   },
   "outputs": [],
   "source": [
    "LEN_PMT = int(1.2e6)\n",
    "NPMTS = 12\n",
    "NEVENTS = 10"
   ]
  },
  {
   "cell_type": "code",
   "execution_count": 3,
   "metadata": {
    "collapsed": false
   },
   "outputs": [],
   "source": [
    "!rm PMT*.h5"
   ]
  },
  {
   "cell_type": "code",
   "execution_count": 4,
   "metadata": {
    "collapsed": false
   },
   "outputs": [],
   "source": [
    "def gaussian(x, mu, sig):\n",
    "    return np.exp(-np.power(x - mu, 2.) / (2 * np.power(sig, 2.)))\n",
    "\n",
    "x = np.linspace(0, 1, 1e7)\n",
    "rd = (gaussian(x, 1, 1.) * 1e6).astype(np.int32)\n",
    "\n",
    "def raw_data(length):\n",
    "    # Return the actual data that you think it represents PM waveforms better \n",
    "    #return np.arange(length, dtype=np.int32)\n",
    "    return rd[:length]"
   ]
  },
  {
   "cell_type": "markdown",
   "metadata": {},
   "source": [
    "## Using Tables to store everything"
   ]
  },
  {
   "cell_type": "code",
   "execution_count": 5,
   "metadata": {
    "collapsed": true
   },
   "outputs": [],
   "source": [
    "class PMTRD(tables.IsDescription):\n",
    "    # event_id = tables.Int32Col(pos=1, indexed=True) \n",
    "    event_id = tables.Int32Col(pos=1)\n",
    "    npmt = tables.Int8Col(pos=2)\n",
    "    pmtrd = tables.Int32Col(shape=LEN_PMT, pos=3) "
   ]
  },
  {
   "cell_type": "code",
   "execution_count": 6,
   "metadata": {
    "collapsed": false
   },
   "outputs": [],
   "source": [
    "def one_table(filename, filters):\n",
    "    with tables.open_file(\"{}-{}-{}.h5\".format(filename, filters.complib, filters.complevel), \"w\", filters=filters) as h5t:\n",
    "        pmt = h5t.create_table(h5t.root, \"pmt\", PMTRD, expectedrows=NEVENTS*NPMTS)\n",
    "        pmtr = pmt.row\n",
    "        for i in range(NEVENTS):\n",
    "            for j in range(NPMTS):\n",
    "                pmtr['event_id'] = i\n",
    "                pmtr['npmt'] = j\n",
    "                pmtr['pmtrd'] = raw_data(LEN_PMT)\n",
    "                pmtr.append()"
   ]
  },
  {
   "cell_type": "code",
   "execution_count": 7,
   "metadata": {
    "collapsed": false
   },
   "outputs": [
    {
     "name": "stdout",
     "output_type": "stream",
     "text": [
      "CPU times: user 428 ms, sys: 292 ms, total: 720 ms\n",
      "Wall time: 717 ms\n"
     ]
    }
   ],
   "source": [
    "# Using no compression\n",
    "%time one_table(\"PMTs\", tables.Filters(complib=\"zlib\", complevel=0))"
   ]
  },
  {
   "cell_type": "code",
   "execution_count": 8,
   "metadata": {
    "collapsed": false
   },
   "outputs": [
    {
     "name": "stdout",
     "output_type": "stream",
     "text": [
      "CPU times: user 4.5 s, sys: 72 ms, total: 4.58 s\n",
      "Wall time: 4.57 s\n"
     ]
    }
   ],
   "source": [
    "# Using Zlib (level 5) compression\n",
    "%time one_table(\"PMTs\", tables.Filters(complib=\"zlib\", complevel=5))"
   ]
  },
  {
   "cell_type": "code",
   "execution_count": 9,
   "metadata": {
    "collapsed": false
   },
   "outputs": [
    {
     "name": "stdout",
     "output_type": "stream",
     "text": [
      "CPU times: user 2.4 s, sys: 468 ms, total: 2.86 s\n",
      "Wall time: 2.86 s\n"
     ]
    }
   ],
   "source": [
    "# Using Blosc (level 9) compression\n",
    "%time one_table(\"PMTs\", tables.Filters(complib=\"blosc\", complevel=9))"
   ]
  },
  {
   "cell_type": "code",
   "execution_count": 10,
   "metadata": {
    "collapsed": false
   },
   "outputs": [
    {
     "name": "stdout",
     "output_type": "stream",
     "text": [
      "498M PMTs-blosc-9.h5  550M PMTs-None-0.h5   17M PMTs-zlib-5.h5\r\n"
     ]
    }
   ],
   "source": [
    "ls -sh *.h5"
   ]
  },
  {
   "cell_type": "markdown",
   "metadata": {},
   "source": [
    "So, using no compression leads to best speed, whereas Zlib can compress data by ~32x.  Zlib is ~3x slower than using no compression though.  On its hand, the Blosc compressor is faster but it can barely compress the dataset."
   ]
  },
  {
   "cell_type": "markdown",
   "metadata": {},
   "source": [
    "## Using EArrays for storing raw data and Table for other metadata"
   ]
  },
  {
   "cell_type": "code",
   "execution_count": 11,
   "metadata": {
    "collapsed": false
   },
   "outputs": [],
   "source": [
    "def rawdata_earray(filename, filters):\n",
    "    with tables.open_file(\"{}-{}.h5\".format(filename, filters.complib), \"w\", filters=filters) as h5a:\n",
    "        pmtrd = h5a.create_earray(h5a.root, \"pmtrd\", tables.Int32Atom(), shape=(0, NPMTS, LEN_PMT), expectedrows=NEVENTS)\n",
    "        for i in range(NEVENTS):\n",
    "            rdata = []\n",
    "            for j in range(NPMTS):\n",
    "                rdata.append(raw_data(LEN_PMT))\n",
    "            pmtrd.append(np.array(rdata).reshape(1, NPMTS, LEN_PMT))\n",
    "        pmtrd.flush()"
   ]
  },
  {
   "cell_type": "code",
   "execution_count": 12,
   "metadata": {
    "collapsed": false
   },
   "outputs": [
    {
     "name": "stdout",
     "output_type": "stream",
     "text": [
      "CPU times: user 204 ms, sys: 328 ms, total: 532 ms\n",
      "Wall time: 659 ms\n"
     ]
    }
   ],
   "source": [
    "# Using no compression\n",
    "%time rawdata_earray(\"PMTAs\", tables.Filters(complib=\"zlib\", complevel=0))"
   ]
  },
  {
   "cell_type": "code",
   "execution_count": 13,
   "metadata": {
    "collapsed": false
   },
   "outputs": [
    {
     "name": "stdout",
     "output_type": "stream",
     "text": [
      "CPU times: user 4.04 s, sys: 40 ms, total: 4.08 s\n",
      "Wall time: 4.72 s\n"
     ]
    }
   ],
   "source": [
    "# Using Zlib (level 5) compression\n",
    "%time rawdata_earray(\"PMTAs\", tables.Filters(complib=\"zlib\", complevel=5))"
   ]
  },
  {
   "cell_type": "code",
   "execution_count": 14,
   "metadata": {
    "collapsed": false
   },
   "outputs": [
    {
     "name": "stdout",
     "output_type": "stream",
     "text": [
      "CPU times: user 344 ms, sys: 68 ms, total: 412 ms\n",
      "Wall time: 412 ms\n"
     ]
    }
   ],
   "source": [
    "# Using Blosc (level 5) compression\n",
    "%time rawdata_earray(\"PMTAs\", tables.Filters(complib=\"blosc\", complevel=9))"
   ]
  },
  {
   "cell_type": "code",
   "execution_count": 15,
   "metadata": {
    "collapsed": false
   },
   "outputs": [
    {
     "name": "stdout",
     "output_type": "stream",
     "text": [
      " 15M PMTAs-blosc.h5  6,0M PMTAs-zlib.h5    550M PMTs-None-0.h5\r\n",
      "571M PMTAs-None.h5   498M PMTs-blosc-9.h5   17M PMTs-zlib-5.h5\r\n"
     ]
    }
   ],
   "source": [
    "!ls -sh *.h5"
   ]
  },
  {
   "cell_type": "markdown",
   "metadata": {
    "collapsed": true
   },
   "source": [
    "We see that by using the Blosc compressor one can achieve around 10x faster output operation wrt Zlib, although the compression ratio can be somewhat smaller (but still pretty good)."
   ]
  },
  {
   "cell_type": "code",
   "execution_count": 16,
   "metadata": {
    "collapsed": false
   },
   "outputs": [],
   "source": [
    "# Add the event IDs in a separate table in the same file\n",
    "class PMTRD(tables.IsDescription):\n",
    "    # event_id = tables.Int32Col(pos=1, indexed=True) \n",
    "    event_id = tables.Int32Col(pos=1)\n",
    "    npmt = tables.Int8Col(pos=2)\n",
    "\n",
    "def add_table(filename, filters):\n",
    "    with tables.open_file(\"{}-{}.h5\".format(filename, filters.complib), \"a\", filters=filters) as h5a:\n",
    "        pmt = h5a.create_table(h5a.root, \"pmt\", PMTRD)\n",
    "        pmtr = pmt.row\n",
    "        for i in range(NEVENTS):\n",
    "            for j in range(NPMTS):\n",
    "                pmtr['event_id'] = i\n",
    "                pmtr['npmt'] = j\n",
    "                pmtr.append()"
   ]
  },
  {
   "cell_type": "code",
   "execution_count": 17,
   "metadata": {
    "collapsed": false
   },
   "outputs": [
    {
     "name": "stdout",
     "output_type": "stream",
     "text": [
      "CPU times: user 0 ns, sys: 4 ms, total: 4 ms\n",
      "Wall time: 4.3 ms\n"
     ]
    }
   ],
   "source": [
    "# Using no compression\n",
    "%time add_table(\"PMTAs\", tables.Filters(complib=\"zlib\", complevel=0))"
   ]
  },
  {
   "cell_type": "code",
   "execution_count": 18,
   "metadata": {
    "collapsed": false
   },
   "outputs": [
    {
     "name": "stdout",
     "output_type": "stream",
     "text": [
      "CPU times: user 4 ms, sys: 0 ns, total: 4 ms\n",
      "Wall time: 3.71 ms\n"
     ]
    }
   ],
   "source": [
    "# Using Zlib (level 5) compression\n",
    "%time add_table(\"PMTAs\", tables.Filters(complib=\"zlib\", complevel=5))"
   ]
  },
  {
   "cell_type": "code",
   "execution_count": 19,
   "metadata": {
    "collapsed": false
   },
   "outputs": [
    {
     "name": "stdout",
     "output_type": "stream",
     "text": [
      "CPU times: user 0 ns, sys: 0 ns, total: 0 ns\n",
      "Wall time: 3.25 ms\n"
     ]
    }
   ],
   "source": [
    "# Using Blosc (level 9) compression\n",
    "%time add_table(\"PMTAs\", tables.Filters(complib=\"blosc\", complevel=9))"
   ]
  },
  {
   "cell_type": "code",
   "execution_count": 20,
   "metadata": {
    "collapsed": false
   },
   "outputs": [
    {
     "name": "stdout",
     "output_type": "stream",
     "text": [
      " 15M PMTAs-blosc.h5  6,0M PMTAs-zlib.h5    550M PMTs-None-0.h5\r\n",
      "571M PMTAs-None.h5   498M PMTs-blosc-9.h5   17M PMTs-zlib-5.h5\r\n"
     ]
    }
   ],
   "source": [
    "!ls -sh *.h5"
   ]
  },
  {
   "cell_type": "markdown",
   "metadata": {
    "collapsed": true
   },
   "source": [
    "After adding the table we continue to see that a better compression ratio is achieved for EArray + Table with respect to a single Table.  Also, Blosc can make writing files significantly faster than not using compression (it has to write less)."
   ]
  },
  {
   "cell_type": "markdown",
   "metadata": {},
   "source": [
    "## Retrieving data from a single Table"
   ]
  },
  {
   "cell_type": "code",
   "execution_count": 21,
   "metadata": {
    "collapsed": false
   },
   "outputs": [],
   "source": [
    "def read_single_table(complib, complevel):\n",
    "    with tables.open_file(\"PMTs-{}-{}.h5\".format(complib, complevel), \"r\") as h5t:\n",
    "        pmt = h5t.root.pmt\n",
    "        for i, row in enumerate(pmt):\n",
    "            event_id, npmt, pmtrd = row[\"event_id\"], row[\"npmt\"], row[\"pmtrd\"][:]\n",
    "            if i % 20 == 0:\n",
    "                print(event_id, npmt, pmtrd[0:5])"
   ]
  },
  {
   "cell_type": "code",
   "execution_count": 22,
   "metadata": {
    "collapsed": false
   },
   "outputs": [
    {
     "name": "stdout",
     "output_type": "stream",
     "text": [
      "(0, 0, array([606530, 606530, 606530, 606530, 606530], dtype=int32))\n",
      "(1, 8, array([606530, 606530, 606530, 606530, 606530], dtype=int32))\n",
      "(3, 4, array([606530, 606530, 606530, 606530, 606530], dtype=int32))\n",
      "(5, 0, array([606530, 606530, 606530, 606530, 606530], dtype=int32))\n",
      "(6, 8, array([606530, 606530, 606530, 606530, 606530], dtype=int32))\n",
      "(8, 4, array([606530, 606530, 606530, 606530, 606530], dtype=int32))\n",
      "CPU times: user 76 ms, sys: 160 ms, total: 236 ms\n",
      "Wall time: 235 ms\n"
     ]
    }
   ],
   "source": [
    "%time read_single_table(\"None\", 0)"
   ]
  },
  {
   "cell_type": "code",
   "execution_count": 23,
   "metadata": {
    "collapsed": false
   },
   "outputs": [
    {
     "name": "stdout",
     "output_type": "stream",
     "text": [
      "(0, 0, array([606530, 606530, 606530, 606530, 606530], dtype=int32))\n",
      "(1, 8, array([606530, 606530, 606530, 606530, 606530], dtype=int32))\n",
      "(3, 4, array([606530, 606530, 606530, 606530, 606530], dtype=int32))\n",
      "(5, 0, array([606530, 606530, 606530, 606530, 606530], dtype=int32))\n",
      "(6, 8, array([606530, 606530, 606530, 606530, 606530], dtype=int32))\n",
      "(8, 4, array([606530, 606530, 606530, 606530, 606530], dtype=int32))\n",
      "CPU times: user 748 ms, sys: 4 ms, total: 752 ms\n",
      "Wall time: 750 ms\n"
     ]
    }
   ],
   "source": [
    "%time read_single_table(\"zlib\", 5)"
   ]
  },
  {
   "cell_type": "code",
   "execution_count": 24,
   "metadata": {
    "collapsed": false
   },
   "outputs": [
    {
     "name": "stdout",
     "output_type": "stream",
     "text": [
      "(0, 0, array([606530, 606530, 606530, 606530, 606530], dtype=int32))\n",
      "(1, 8, array([606530, 606530, 606530, 606530, 606530], dtype=int32))\n",
      "(3, 4, array([606530, 606530, 606530, 606530, 606530], dtype=int32))\n",
      "(5, 0, array([606530, 606530, 606530, 606530, 606530], dtype=int32))\n",
      "(6, 8, array([606530, 606530, 606530, 606530, 606530], dtype=int32))\n",
      "(8, 4, array([606530, 606530, 606530, 606530, 606530], dtype=int32))\n",
      "CPU times: user 936 ms, sys: 88 ms, total: 1.02 s\n",
      "Wall time: 1.02 s\n"
     ]
    }
   ],
   "source": [
    "%time read_single_table(\"blosc\", 9)"
   ]
  },
  {
   "cell_type": "markdown",
   "metadata": {},
   "source": [
    "As Blosc could not compress the table, it has a performance that is worse (quite worse actually) to the uncompressed table.  On its hand, Zlib can be more than 3x slower for reading than without compression."
   ]
  },
  {
   "cell_type": "markdown",
   "metadata": {},
   "source": [
    "## Retrieving data from the EArray + Table"
   ]
  },
  {
   "cell_type": "code",
   "execution_count": 25,
   "metadata": {
    "collapsed": false
   },
   "outputs": [],
   "source": [
    "def read_earray_table(complib, complevel):\n",
    "    with tables.open_file(\"PMTAs-{}.h5\".format(complib, \"r\")) as h5a:\n",
    "        pmt = h5a.root.pmt\n",
    "        pmtrd_ = h5a.root.pmtrd\n",
    "        for i, row in enumerate(pmt):\n",
    "            event_id, npmt = row[\"event_id\"], row[\"npmt\"]\n",
    "            pmtrd = pmtrd_[event_id, npmt]\n",
    "            if i % 20 == 0:\n",
    "                print(event_id, npmt, pmtrd[0:5])"
   ]
  },
  {
   "cell_type": "code",
   "execution_count": 26,
   "metadata": {
    "collapsed": false
   },
   "outputs": [
    {
     "name": "stdout",
     "output_type": "stream",
     "text": [
      "(0, 0, array([606530, 606530, 606530, 606530, 606530], dtype=int32))\n",
      "(1, 8, array([606530, 606530, 606530, 606530, 606530], dtype=int32))\n",
      "(3, 4, array([606530, 606530, 606530, 606530, 606530], dtype=int32))\n",
      "(5, 0, array([606530, 606530, 606530, 606530, 606530], dtype=int32))\n",
      "(6, 8, array([606530, 606530, 606530, 606530, 606530], dtype=int32))\n",
      "(8, 4, array([606530, 606530, 606530, 606530, 606530], dtype=int32))\n",
      "CPU times: user 84 ms, sys: 116 ms, total: 200 ms\n",
      "Wall time: 201 ms\n"
     ]
    }
   ],
   "source": [
    "%time read_earray_table(\"None\", 0)"
   ]
  },
  {
   "cell_type": "code",
   "execution_count": 27,
   "metadata": {
    "collapsed": false
   },
   "outputs": [
    {
     "name": "stdout",
     "output_type": "stream",
     "text": [
      "(0, 0, array([606530, 606530, 606530, 606530, 606530], dtype=int32))\n",
      "(1, 8, array([606530, 606530, 606530, 606530, 606530], dtype=int32))\n",
      "(3, 4, array([606530, 606530, 606530, 606530, 606530], dtype=int32))\n",
      "(5, 0, array([606530, 606530, 606530, 606530, 606530], dtype=int32))\n",
      "(6, 8, array([606530, 606530, 606530, 606530, 606530], dtype=int32))\n",
      "(8, 4, array([606530, 606530, 606530, 606530, 606530], dtype=int32))\n",
      "CPU times: user 1.35 s, sys: 12 ms, total: 1.36 s\n",
      "Wall time: 1.36 s\n"
     ]
    }
   ],
   "source": [
    "%time read_earray_table(\"zlib\", 5)"
   ]
  },
  {
   "cell_type": "code",
   "execution_count": 28,
   "metadata": {
    "collapsed": false
   },
   "outputs": [
    {
     "name": "stdout",
     "output_type": "stream",
     "text": [
      "(0, 0, array([606530, 606530, 606530, 606530, 606530], dtype=int32))\n",
      "(1, 8, array([606530, 606530, 606530, 606530, 606530], dtype=int32))\n",
      "(3, 4, array([606530, 606530, 606530, 606530, 606530], dtype=int32))\n",
      "(5, 0, array([606530, 606530, 606530, 606530, 606530], dtype=int32))\n",
      "(6, 8, array([606530, 606530, 606530, 606530, 606530], dtype=int32))\n",
      "(8, 4, array([606530, 606530, 606530, 606530, 606530], dtype=int32))\n",
      "CPU times: user 248 ms, sys: 4 ms, total: 252 ms\n",
      "Wall time: 250 ms\n"
     ]
    }
   ],
   "source": [
    "%time read_earray_table(\"blosc\", 9)"
   ]
  },
  {
   "cell_type": "markdown",
   "metadata": {},
   "source": [
    "So, the EArray + Table takes a similar time to read than a pure Table approach when no compression is used. And for some reason, when Zlib is used for compressing the data, the EArray + Table scenario degrades read speed significantly.  However, when the Blosc compression is used, the EArray + Table works actually faster than for the single Table. "
   ]
  },
  {
   "cell_type": "markdown",
   "metadata": {},
   "source": [
    "## Some plots on speeds and sizes"
   ]
  },
  {
   "cell_type": "code",
   "execution_count": 15,
   "metadata": {
    "collapsed": true
   },
   "outputs": [],
   "source": [
    "import numpy as np\n",
    "import matplotlib\n",
    "import matplotlib.pyplot as plt\n",
    "%matplotlib inline"
   ]
  },
  {
   "cell_type": "markdown",
   "metadata": {},
   "source": [
    "Let's have a look at the speeds at which data can be stored and read using the different paradigms:"
   ]
  },
  {
   "cell_type": "code",
   "execution_count": 87,
   "metadata": {
    "collapsed": false,
    "scrolled": true
   },
   "outputs": [
    {
     "data": {
      "image/png": "[encoded data removed]",
      "text/plain": [
       "<matplotlib.figure.Figure at 0x7ff65135ae50>"
      ]
     },
     "metadata": {},
     "output_type": "display_data"
    }
   ],
   "source": [
    "fig, (ax1, ax2) = plt.subplots(nrows=2, sharex=False, sharey=False)\n",
    "fig.set_size_inches(w=8, h=7, forward=False)\n",
    "f = .550   # conversion factor to GB/s\n",
    "rects1 = ax1.bar(np.arange(3), f / np.array([.717, 4.570, 2.86]), 0.25, color='r')\n",
    "rects2 = ax1.bar(np.arange(3) + 0.25, f / np.array([.663, 4.720, .415]), 0.25, color='y')\n",
    "_ = ax1.set_ylabel('GB/s')\n",
    "_ = ax1.set_xticks(np.arange(3) + 0.25)\n",
    "_ = ax1.set_xticklabels(('No Compr', 'Zlib', 'Blosc'))\n",
    "_ = ax1.legend((rects1[0], rects2[0]), ('Single Table', 'EArray+Table'), loc=9)\n",
    "_ = ax1.set_title('Speed to store data')\n",
    "\n",
    "rects1 = ax2.bar(np.arange(3), f / np.array([.235, .750, 1.02]), 0.25, color='r')\n",
    "rects2 = ax2.bar(np.arange(3) + 0.25, f / np.array([.201, 1.360, .250]), 0.25, color='y')\n",
    "_ = ax2.set_ylabel('GB/s')\n",
    "_ = ax2.set_xticks(np.arange(3) + 0.25)\n",
    "_ = ax2.set_xticklabels(('No Compr', 'Zlib', 'Blosc'))\n",
    "_ = ax2.legend((rects1[0], rects2[0]), ('Single Table', 'EArray+Table'), loc=9)\n",
    "_ = ax2.set_title('Speed to read data')"
   ]
  },
  {
   "cell_type": "markdown",
   "metadata": {},
   "source": [
    "And now, see the different sizes for the final files:"
   ]
  },
  {
   "cell_type": "code",
   "execution_count": 85,
   "metadata": {
    "collapsed": false
   },
   "outputs": [
    {
     "data": {
      "image/png": "[encoded data removed]",
      "text/plain": [
       "<matplotlib.figure.Figure at 0x7ff6513a1290>"
      ]
     },
     "metadata": {},
     "output_type": "display_data"
    }
   ],
   "source": [
    "fig, ax1 = plt.subplots()\n",
    "fig.set_size_inches(w=8, h=5)\n",
    "rects1 = ax1.bar(np.arange(3), np.array([550, 17, 498]), 0.25, color='r')\n",
    "rects2 = ax1.bar(np.arange(3) + 0.25, np.array([571, 6, 15]), 0.25, color='y')\n",
    "_ = ax1.set_ylabel('MB')\n",
    "_ = ax1.set_xticks(np.arange(3) + 0.25)\n",
    "_ = ax1.set_xticklabels(('No Compr', 'Zlib', 'Blosc'))\n",
    "_ = ax1.legend((rects1[0], rects2[0]), ('Single Table', 'EArray+Table'), loc=9)\n",
    "_ = ax1.set_title('Size for stored datasets')"
   ]
  },
  {
   "cell_type": "markdown",
   "metadata": {},
   "source": [
    "## Conclusions"
   ]
  },
  {
   "cell_type": "markdown",
   "metadata": {},
   "source": [
    "The main conclusion here is that, whenever you have a lot of data to dump (typically in the form of an array), a combination of an EArray + Table is preferred instead of a single Table.  The reason for this is that HDF5 can store the former arrangement more efficiently, and that fast compressors like Blosc works way better too."
   ]
  },
  {
   "cell_type": "markdown",
   "metadata": {},
   "source": [
    "The deep explanation on why using an EArray to store the raw data gives these advanatges is because we are physically (not only logically!) separating data that is highly related (like the result of some measurements) and also is homogeneous (of type Int32 in this case).  This manual separation is critical for getting better compression ratios and faster speeds too, specially when using fast compressors like Blosc."
   ]
  },
  {
   "cell_type": "markdown",
   "metadata": {
    "collapsed": true
   },
   "source": [
    "Finally, although meaningful, this experiment is based on a pure synthetic dataset.  It is always wise to use your own data in order to get your conclusions.  It is specially recommended to have a look at the different compressors that comes with PyTables and see which one fits better to your needs: http://www.pytables.org/usersguide/libref/helper_classes.html"
   ]
  }
 ],
 "metadata": {
  "kernelspec": {
   "display_name": "Python 2",
   "language": "python",
   "name": "python2"
  },
  "language_info": {
   "codemirror_mode": {
    "name": "ipython",
    "version": 2
   },
   "file_extension": ".py",
   "mimetype": "text/x-python",
   "name": "python",
   "nbconvert_exporter": "python",
   "pygments_lexer": "ipython2",
   "version": "2.7.12"
  }
 },
 "nbformat": 4,
 "nbformat_minor": 0
}
